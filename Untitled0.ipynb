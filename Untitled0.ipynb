{
  "nbformat": 4,
  "nbformat_minor": 0,
  "metadata": {
    "colab": {
      "provenance": [],
      "authorship_tag": "ABX9TyOzL7KoifnZsHM4gL0J/I13",
      "include_colab_link": true
    },
    "kernelspec": {
      "name": "python3",
      "display_name": "Python 3"
    },
    "language_info": {
      "name": "python"
    }
  },
  "cells": [
    {
      "cell_type": "markdown",
      "metadata": {
        "id": "view-in-github",
        "colab_type": "text"
      },
      "source": [
        "<a href=\"https://colab.research.google.com/github/permanaalief7-ctrl/program-komputer/blob/main/Untitled0.ipynb\" target=\"_parent\"><img src=\"https://colab.research.google.com/assets/colab-badge.svg\" alt=\"Open In Colab\"/></a>"
      ]
    },
    {
      "cell_type": "code",
      "execution_count": 1,
      "metadata": {
        "colab": {
          "base_uri": "https://localhost:8080/"
        },
        "id": "O2H83L47T6cp",
        "outputId": "6a3c4978-3ce6-4128-9a05-582f60db0737"
      },
      "outputs": [
        {
          "output_type": "stream",
          "name": "stdout",
          "text": [
            "Masukkan sebuah bilangan: 1\n",
            "Bilangan tersebut adalah positif.\n"
          ]
        }
      ],
      "source": [
        "# Program untuk menentukan apakah bilangan positif, negatif, atau nol\n",
        "\n",
        "# Meminta input bilangan dari pengguna\n",
        "bilangan = float(input(\"Masukkan sebuah bilangan: \"))\n",
        "\n",
        "# Mengecek kondisi bilangan\n",
        "if bilangan > 0:\n",
        "    print(\"Bilangan tersebut adalah positif.\")\n",
        "elif bilangan < 0:\n",
        "    print(\"Bilangan tersebut adalah negatif.\")\n",
        "else:\n",
        "    print(\"Bilangan tersebut adalah nol.\")\n"
      ]
    },
    {
      "cell_type": "code",
      "source": [
        "# Program untuk menentukan nilai huruf berdasarkan nilai akhir\n",
        "\n",
        "# Meminta input nilai akhir dari pengguna\n",
        "nilai = float(input(\"Masukkan nilai akhir (0-100): \"))\n",
        "\n",
        "# Mengecek kondisi nilai dan menentukan nilai huruf\n",
        "if 85 <= nilai <= 100:\n",
        "    print(\"Nilai huruf: A\")\n",
        "elif 70 <= nilai <= 84:\n",
        "    print(\"Nilai huruf: B\")\n",
        "elif 55 <= nilai <= 69:\n",
        "    print(\"Nilai huruf: C\")\n",
        "elif 40 <= nilai <= 54:\n",
        "    print(\"Nilai huruf: D\")\n",
        "elif 0 <= nilai < 40:\n",
        "    print(\"Nilai huruf: E\")\n",
        "else:\n",
        "    print(\"Nilai tidak valid. Masukkan nilai antara 0-100.\")\n"
      ],
      "metadata": {
        "colab": {
          "base_uri": "https://localhost:8080/"
        },
        "id": "jNtdP4I6U9bj",
        "outputId": "dbb6d868-6661-41d4-a853-bdc43a653778"
      },
      "execution_count": 2,
      "outputs": [
        {
          "output_type": "stream",
          "name": "stdout",
          "text": [
            "Masukkan nilai akhir (0-100): 50\n",
            "Nilai huruf: D\n"
          ]
        }
      ]
    },
    {
      "cell_type": "code",
      "source": [
        "# Program untuk menentukan apakah suatu tahun adalah tahun kabisat\n",
        "\n",
        "# Meminta input tahun dari pengguna\n",
        "tahun = int(input(\"Masukkan tahun: \"))\n",
        "\n",
        "# Mengecek kondisi tahun kabisat\n",
        "if (tahun % 4 == 0 and tahun % 100 != 0) or (tahun % 400 == 0):\n",
        "    print(f\"{tahun} adalah tahun kabisat.\")\n",
        "else:\n",
        "    print(f\"{tahun} bukan tahun kabisat.\")\n"
      ],
      "metadata": {
        "colab": {
          "base_uri": "https://localhost:8080/"
        },
        "id": "Pemo_-f3VXyo",
        "outputId": "8b97f0bd-0f0b-485d-81f0-f5bc28b2b80e"
      },
      "execution_count": 3,
      "outputs": [
        {
          "output_type": "stream",
          "name": "stdout",
          "text": [
            "Masukkan tahun: 2020\n",
            "2020 adalah tahun kabisat.\n"
          ]
        }
      ]
    },
    {
      "cell_type": "code",
      "source": [
        "# Program untuk menampilkan semua bilangan genap dari 1 sampai 50\n",
        "\n",
        "for i in range(2, 51, 2):\n",
        "    print(i)\n"
      ],
      "metadata": {
        "colab": {
          "base_uri": "https://localhost:8080/"
        },
        "id": "wJZvyOhDVl_i",
        "outputId": "5946f04e-3198-4b50-dd77-5fd8f7ae9dee"
      },
      "execution_count": 4,
      "outputs": [
        {
          "output_type": "stream",
          "name": "stdout",
          "text": [
            "2\n",
            "4\n",
            "6\n",
            "8\n",
            "10\n",
            "12\n",
            "14\n",
            "16\n",
            "18\n",
            "20\n",
            "22\n",
            "24\n",
            "26\n",
            "28\n",
            "30\n",
            "32\n",
            "34\n",
            "36\n",
            "38\n",
            "40\n",
            "42\n",
            "44\n",
            "46\n",
            "48\n",
            "50\n"
          ]
        }
      ]
    },
    {
      "cell_type": "code",
      "source": [
        "# Program untuk menghitung jumlah bilangan dari 1 sampai N menggunakan while loop\n",
        "\n",
        "# Meminta input N dari pengguna\n",
        "N = int(input(\"Masukkan nilai N: \"))\n",
        "\n",
        "# Inisialisasi variabel\n",
        "jumlah = 0\n",
        "i = 1\n",
        "\n",
        "# Menggunakan while loop untuk menghitung jumlah\n",
        "while i <= N:\n",
        "    jumlah += i\n",
        "    i += 1\n",
        "\n",
        "# Menampilkan hasil\n",
        "print(f\"Jumlah bilangan dari 1 sampai {N} adalah {jumlah}\")\n"
      ],
      "metadata": {
        "colab": {
          "base_uri": "https://localhost:8080/"
        },
        "id": "r0DN7pOiVv6Y",
        "outputId": "dbc462ac-14ff-4aa9-e241-115910c5b228"
      },
      "execution_count": 5,
      "outputs": [
        {
          "output_type": "stream",
          "name": "stdout",
          "text": [
            "Masukkan nilai N: 100\n",
            "Jumlah bilangan dari 1 sampai 100 adalah 5050\n"
          ]
        }
      ]
    },
    {
      "cell_type": "code",
      "source": [
        "import math\n",
        "\n",
        "# Program menu untuk menghitung luas berbagai bangun datar\n",
        "\n",
        "while True:\n",
        "    print(\"===== MENU =====\")\n",
        "    print(\"1. Hitung luas persegi\")\n",
        "    print(\"2. Hitung luas lingkaran\")\n",
        "    print(\"3. Hitung luas segitiga\")\n",
        "    print(\"4. Keluar\")\n",
        "\n",
        "    pilihan = input(\"Pilih menu: \")\n",
        "\n",
        "    if pilihan == '1':\n",
        "        sisi = float(input(\"Masukkan sisi persegi: \"))\n",
        "        luas = sisi * sisi\n",
        "        print(f\"Luas persegi adalah {luas}\")\n",
        "    elif pilihan == '2':\n",
        "        r = float(input(\"Masukkan jari-jari lingkaran: \"))\n",
        "        luas = math.pi * r * r\n",
        "        print(f\"Luas lingkaran adalah {luas:.2f}\")\n",
        "    elif pilihan == '3':\n",
        "        alas = float(input(\"Masukkan alas segitiga: \"))\n",
        "        tinggi = float(input(\"Masukkan tinggi segitiga: \"))\n",
        "        luas = 0.5 * alas * tinggi\n",
        "        print(f\"Luas segitiga adalah {luas}\")\n",
        "    elif pilihan == '4':\n",
        "        print(\"Keluar dari program.\")\n",
        "        break\n",
        "    else:\n",
        "        print(\"Pilihan tidak valid. Silakan pilih lagi.\")\n",
        "\n",
        "    print()  # Untuk spasi\n"
      ],
      "metadata": {
        "colab": {
          "base_uri": "https://localhost:8080/"
        },
        "id": "qc1m-o6EV72v",
        "outputId": "380430ab-5859-4b26-96d9-d1e63691444a"
      },
      "execution_count": null,
      "outputs": [
        {
          "output_type": "stream",
          "name": "stdout",
          "text": [
            "===== MENU =====\n",
            "1. Hitung luas persegi\n",
            "2. Hitung luas lingkaran\n",
            "3. Hitung luas segitiga\n",
            "4. Keluar\n",
            "Pilih menu: 1\n",
            "Masukkan sisi persegi: 5\n",
            "Luas persegi adalah 25.0\n",
            "\n",
            "===== MENU =====\n",
            "1. Hitung luas persegi\n",
            "2. Hitung luas lingkaran\n",
            "3. Hitung luas segitiga\n",
            "4. Keluar\n",
            "Pilih menu: 2\n",
            "Masukkan jari-jari lingkaran: 45\n",
            "Luas lingkaran adalah 6361.73\n",
            "\n",
            "===== MENU =====\n",
            "1. Hitung luas persegi\n",
            "2. Hitung luas lingkaran\n",
            "3. Hitung luas segitiga\n",
            "4. Keluar\n"
          ]
        }
      ]
    }
  ]
}